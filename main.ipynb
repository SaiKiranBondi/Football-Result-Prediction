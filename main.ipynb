{
 "cells": [
  {
   "cell_type": "markdown",
   "id": "cf953bf7-14f0-471d-bf99-1026aa21212e",
   "metadata": {},
   "source": [
    "# Import Libraries"
   ]
  },
  {
   "cell_type": "code",
   "execution_count": null,
   "id": "9ac6203d-8bb2-4f6d-8c31-d92923315c24",
   "metadata": {},
   "outputs": [],
   "source": [
    "# Sai Kiran Libraries"
   ]
  },
  {
   "cell_type": "markdown",
   "id": "77e5faf9-9e34-4af0-baa9-41bc62938020",
   "metadata": {},
   "source": [
    "# Importing Dataset"
   ]
  },
  {
   "cell_type": "code",
   "execution_count": null,
   "id": "100a6252-7067-4401-bd2d-41cf421e13a9",
   "metadata": {},
   "outputs": [],
   "source": []
  },
  {
   "cell_type": "markdown",
   "id": "cdf5d7b4-abc0-47a1-887b-87a5d6548afd",
   "metadata": {},
   "source": [
    "# Preprocessing"
   ]
  },
  {
   "cell_type": "code",
   "execution_count": null,
   "id": "ba0fa04a-d91c-4b03-8176-35e0e5909030",
   "metadata": {},
   "outputs": [],
   "source": []
  },
  {
   "cell_type": "markdown",
   "id": "4ccdc3e6-85fb-4188-9448-3cacd9ff4510",
   "metadata": {},
   "source": [
    "# Model Training"
   ]
  },
  {
   "cell_type": "code",
   "execution_count": null,
   "id": "56112b59-577c-4554-a9d0-99c5db2ca438",
   "metadata": {},
   "outputs": [],
   "source": [
    "# Vishnu Libraries"
   ]
  },
  {
   "cell_type": "code",
   "execution_count": null,
   "id": "1d759d26-837b-4d37-974e-ddfa2dee10ce",
   "metadata": {},
   "outputs": [],
   "source": []
  },
  {
   "cell_type": "markdown",
   "id": "8956ed39-7bcd-4749-8d16-670411677656",
   "metadata": {},
   "source": [
    "# Data Visualisation"
   ]
  },
  {
   "cell_type": "code",
   "execution_count": null,
   "id": "1d0de048-0b69-45ed-9051-aea55a76f192",
   "metadata": {},
   "outputs": [],
   "source": []
  },
  {
   "cell_type": "markdown",
   "id": "9ac55b36-4d83-41b2-8f8e-b0dc07395926",
   "metadata": {},
   "source": [
    "# Comparision"
   ]
  },
  {
   "cell_type": "code",
   "execution_count": null,
   "id": "fe3f339f-262c-4a90-bb98-5e9470d1fe00",
   "metadata": {},
   "outputs": [],
   "source": []
  }
 ],
 "metadata": {
  "kernelspec": {
   "display_name": "Python 3 (ipykernel)",
   "language": "python",
   "name": "python3"
  },
  "language_info": {
   "codemirror_mode": {
    "name": "ipython",
    "version": 3
   },
   "file_extension": ".py",
   "mimetype": "text/x-python",
   "name": "python",
   "nbconvert_exporter": "python",
   "pygments_lexer": "ipython3",
   "version": "3.10.12"
  }
 },
 "nbformat": 4,
 "nbformat_minor": 5
}
