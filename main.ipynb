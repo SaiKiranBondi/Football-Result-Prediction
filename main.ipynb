{
 "cells": [
  {
   "cell_type": "code",
   "execution_count": null,
   "id": "9ac6203d-8bb2-4f6d-8c31-d92923315c24",
   "metadata": {},
   "outputs": [],
   "source": [
    "# Sai Kiran Libraries"
   ]
  },
  {
   "cell_type": "markdown",
   "id": "77e5faf9-9e34-4af0-baa9-41bc62938020",
   "metadata": {},
   "source": [
    "# Importing Dataset"
   ]
  },
  {
   "cell_type": "code",
   "execution_count": null,
   "id": "100a6252-7067-4401-bd2d-41cf421e13a9",
   "metadata": {},
   "outputs": [],
   "source": []
  },
  {
   "cell_type": "markdown",
   "id": "cdf5d7b4-abc0-47a1-887b-87a5d6548afd",
   "metadata": {},
   "source": [
    "# Preprocessing"
   ]
  },
  {
   "cell_type": "code",
   "execution_count": null,
   "id": "ba0fa04a-d91c-4b03-8176-35e0e5909030",
   "metadata": {},
   "outputs": [],
   "source": []
  },
  {
   "cell_type": "markdown",
   "id": "8956ed39-7bcd-4749-8d16-670411677656",
   "metadata": {},
   "source": [
    "# Data Visualisation"
   ]
  },
  {
   "cell_type": "code",
   "execution_count": null,
   "id": "1d0de048-0b69-45ed-9051-aea55a76f192",
   "metadata": {},
   "outputs": [],
   "source": []
  },
  {
   "cell_type": "markdown",
   "id": "4ccdc3e6-85fb-4188-9448-3cacd9ff4510",
   "metadata": {},
   "source": [
    "# Model Training"
   ]
  },
  {
   "cell_type": "code",
   "execution_count": null,
   "id": "a6301830-1268-4666-97af-705b5a677d2e",
   "metadata": {},
   "outputs": [],
   "source": [
    "# Constants\n",
    "TEST_SIZE = 0.2\n",
    "RANDOM_STATE = 42\n",
    "accuracy = {}\n",
    "models = {}"
   ]
  },
  {
   "cell_type": "code",
   "execution_count": null,
   "id": "56112b59-577c-4554-a9d0-99c5db2ca438",
   "metadata": {},
   "outputs": [],
   "source": [
    "from sklearn.model_selection import train_test_split\n",
    "from sklearn.metrics import accurcy_score\n",
    "X_train, X_test, y_train, y_test = train_test_split(X, y, test_size=TEST_SIZE, random_state=RANDOM_STATE)"
   ]
  },
  {
   "cell_type": "code",
   "execution_count": null,
   "id": "1d759d26-837b-4d37-974e-ddfa2dee10ce",
   "metadata": {},
   "outputs": [],
   "source": [
    "# SVM\n",
    "from sklearn import svm\n",
    "SVM = svm.SVC()\n",
    "SVM.fit(X_train, y_train)\n",
    "y_pred_SVM = SVM.predict(X_test)\n",
    "accuracy[\"SVM\"] = accuracy_score(y_test, y_pred_SVM)\n",
    "models[\"SVM\"] = SVM"
   ]
  },
  {
   "cell_type": "code",
   "execution_count": null,
   "id": "0c144ee8-b739-4ca1-8204-8803334bc685",
   "metadata": {},
   "outputs": [],
   "source": [
    "# Logisitic Regression\n",
    "from sklearn.linear_model import LogisticRegression\n",
    "lr =  LogisticRegression()\n",
    "lr.fit(X_train,y_train)\n",
    "y_pred_lr = lr.predict(X_test)\n",
    "accuracy[\"Logisitic Regression\"] = accuracy_score(y_test,y_pred_lr)\n",
    "models[\"Logisitic Regression\"] = lr"
   ]
  },
  {
   "cell_type": "code",
   "execution_count": null,
   "id": "7121245f-180d-4b21-ba32-b44a2b8a5324",
   "metadata": {},
   "outputs": [],
   "source": [
    "# Decision Tree\n",
    "from sklearn import tree\n",
    "dt = tree.DecisionTreeClassifier()\n",
    "dt.fit(X_train,y_train)\n",
    "y_pred_dt = dt.predict(X_test)\n",
    "accuracy[\"Decision Tree\"] = accuracy_score(y_test,y_pred_dt)\n",
    "models[\"Decision Tree\"] = dt"
   ]
  },
  {
   "cell_type": "code",
   "execution_count": null,
   "id": "7d135ca3-f1ad-4c1f-8c0e-819c3b7e5b83",
   "metadata": {},
   "outputs": [],
   "source": [
    "# KNN Classifier\n",
    "from sklearn.neighbors import KNeighborsClassifier\n",
    "knn = KNeighborsClassifier()\n",
    "knn.fit(X_train,y_train)\n",
    "y_pred_knn = knn.predict(X_test)\n",
    "accuracy[\"K-Nearest Neighbour\"] = accuracy_score(y_test,y_pred_knn)\n",
    "models[\"K-Nearest Neighbour\"] = knn"
   ]
  },
  {
   "cell_type": "code",
   "execution_count": null,
   "id": "a7bb08ea-16fc-4594-ad5e-72ee6344b530",
   "metadata": {},
   "outputs": [],
   "source": [
    "# Naive Bayes\n",
    "from sklearn.naive_bayes import GaussianNB\n",
    "nb = GaussianNB()\n",
    "nb.fit(X_train,y_train)\n",
    "y_pred_nb = nb.predict(X_test)\n",
    "accuracy[\"Naive-Bayes\"] = accuracy_score(y_test, y_pred_nb)\n",
    "models[\"Naive-Bayes\"] = nb"
   ]
  },
  {
   "cell_type": "code",
   "execution_count": null,
   "id": "f92a1001-af49-4437-ae30-97675f94a245",
   "metadata": {},
   "outputs": [],
   "source": [
    "# Ada Boost\n",
    "from sklearn.ensemble import AdaBoostClassifier, GradientBoostingClassifier, RandomForestClassifier\n",
    "ab = AdaBoostClassifier()\n",
    "ab.fit(X_train,y_train)\n",
    "y_pred_ab = ab.predict(X_test)\n",
    "accuracy[\"Adaboost\"] = accuracy_score(y_test, y_pred_ab)\n",
    "models[\"Adaboost\"] = ab"
   ]
  },
  {
   "cell_type": "code",
   "execution_count": null,
   "id": "966d7ac7-3e55-483c-8709-812288007b9b",
   "metadata": {},
   "outputs": [],
   "source": [
    "# Multi-layer Perceptron\n",
    "from sklearn.neural_network import MLPClassifier\n",
    "mlp = MLPClassifier()\n",
    "mlp.fit(X_train,y_train)\n",
    "y_pred_mlp = mlp.predict(X_test)\n",
    "accuracy[\"MLP\"] = accuracy_score(y_test, y_pred_mlp)\n",
    "models[\"MLP\"] = mlp"
   ]
  },
  {
   "cell_type": "code",
   "execution_count": null,
   "id": "5f02184e-05c0-49ed-804b-3d529ef077f8",
   "metadata": {},
   "outputs": [],
   "source": [
    "# Gradient Boost\n",
    "gb = GradientBoostingClassifier()\n",
    "gb.fit(X_train,y_train)\n",
    "y_pred_gb = classifier.predict(X_test)\n",
    "accuracy[\"Gradient Boost\"] = accuracy_score(y_test, y_pred_gb)\n",
    "models[\"Gradient Boost\"] = gb"
   ]
  },
  {
   "cell_type": "code",
   "execution_count": null,
   "id": "571a8535-62c5-412e-84ef-007cfb2e984e",
   "metadata": {},
   "outputs": [],
   "source": [
    "# Random Forest\n",
    "rf = RandomForestClassifier()\n",
    "rf.fit(X_train,y_train)\n",
    "y_pred_rf = rf.predict(X_test)\n",
    "accuracy[\"Random Forest\"] = accuracy_score(y_test, y_pred_rf)\n",
    "models[\"Random Forest\"] = rf"
   ]
  },
  {
   "cell_type": "code",
   "execution_count": null,
   "id": "0fb426c1-d8cc-4b45-9035-612749cd4be9",
   "metadata": {},
   "outputs": [],
   "source": [
    "# Neural Network\n",
    "from keras.datasets import mnist\n",
    "import keras\n",
    "from tensorflow.keras import layers\n",
    "from keras.utils import to_categorical\n",
    "\n",
    "ann = keras.Sequential([\n",
    "    layers.Dense(128, activation='relu', input_shape=(660,)),\n",
    "    layers.Dense(24, activation='relu'),  \n",
    "    layers.Dense(3,activation='sigmoid'),\n",
    "])\n",
    "\n",
    "ann.compile(loss=\"categorical_crossentropy\",\n",
    "              optimizer=\"adam\",\n",
    "              metrics = ['accuracy'])\n",
    "\n",
    "\n",
    "\n",
    "history = ann.fit(X_train, Y_train, batch_size=100, epochs=30)\n",
    "test_loss_digit, test_acc_digit = ann.evaluate(X_test, y_test)\n",
    "\n",
    "accuracy[\"ANN\"] = round(test_acc_digit,4)\n",
    "models[\"ANN\"] = ann"
   ]
  },
  {
   "cell_type": "markdown",
   "id": "9ac55b36-4d83-41b2-8f8e-b0dc07395926",
   "metadata": {},
   "source": [
    "# Comparision"
   ]
  },
  {
   "cell_type": "code",
   "execution_count": null,
   "id": "fe3f339f-262c-4a90-bb98-5e9470d1fe00",
   "metadata": {},
   "outputs": [],
   "source": [
    "best_accuracy_model = max(accuracy, key=accuracy.get)"
   ]
  },
  {
   "cell_type": "code",
   "execution_count": null,
   "id": "98265abd-654e-48e0-8109-9d6ece96e4f8",
   "metadata": {},
   "outputs": [],
   "source": [
    "print(f\"The Best Model for this is {best_accuracy_model} with accuracy {accuracy[best_accuracy_model]}\")"
   ]
  },
  {
   "cell_type": "code",
   "execution_count": null,
   "id": "68363c8b-d03c-4054-9c11-2b329b80a72c",
   "metadata": {},
   "outputs": [],
   "source": [
    "y_pred = models[best_accuracy_model].predict(X_eval)"
   ]
  },
  {
   "cell_type": "code",
   "execution_count": null,
   "id": "b0c3a4e1-08b3-4c9e-8a64-b580fba8c65e",
   "metadata": {},
   "outputs": [],
   "source": [
    "final_dict = {\"result\": y_pred}"
   ]
  },
  {
   "cell_type": "code",
   "execution_count": null,
   "id": "79b52bce-f161-47d0-ad08-bfe49ad41e51",
   "metadata": {},
   "outputs": [],
   "source": [
    "df = pd.DataFrame(final_dict)\n",
    "df.to_csv('y_test.csv')"
   ]
  }
 ],
 "metadata": {
  "kernelspec": {
   "display_name": "Python 3 (ipykernel)",
   "language": "python",
   "name": "python3"
  },
  "language_info": {
   "codemirror_mode": {
    "name": "ipython",
    "version": 3
   },
   "file_extension": ".py",
   "mimetype": "text/x-python",
   "name": "python",
   "nbconvert_exporter": "python",
   "pygments_lexer": "ipython3",
   "version": "3.10.12"
  }
 },
 "nbformat": 4,
 "nbformat_minor": 5
}
